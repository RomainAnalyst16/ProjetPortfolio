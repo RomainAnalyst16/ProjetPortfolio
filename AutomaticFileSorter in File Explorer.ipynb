{
 "cells": [
  {
   "cell_type": "markdown",
   "id": "49a5c64f-329b-42a8-8773-0649ddca2317",
   "metadata": {},
   "source": [
    "Automatic File Sorter in Explorer"
   ]
  },
  {
   "cell_type": "code",
   "execution_count": 3,
   "id": "1200a960-7eb8-4962-8958-819618c602d6",
   "metadata": {},
   "outputs": [],
   "source": [
    "import os, shutil"
   ]
  },
  {
   "cell_type": "code",
   "execution_count": 43,
   "id": "f9674f3b-86de-4289-b828-7fe7005bc44a",
   "metadata": {},
   "outputs": [],
   "source": [
    "path = r\"C:/Users/romai/Desktop/Data Analyst/Python File sorter/\""
   ]
  },
  {
   "cell_type": "code",
   "execution_count": 23,
   "id": "319d5cac-984f-48d7-9bc7-9fa11533e2c6",
   "metadata": {},
   "outputs": [],
   "source": [
    "file_name = os.listdir(path)"
   ]
  },
  {
   "cell_type": "code",
   "execution_count": 53,
   "id": "f167ad38-c447-42f4-a4c0-a5c09560c6ca",
   "metadata": {},
   "outputs": [],
   "source": [
    "folder_names = ['Excel files', 'image files', 'text files']\n",
    "\n",
    "for loop in range(0,3):\n",
    "    if not os.path.exists(path + folder_names[loop]):\n",
    "        os.makedirs((path + folder_names[loop]))\n",
    "\n",
    "for file in file_name:\n",
    "    if \".xlsx\" in file and not os.path.exists(path + \"Excel files/\" + file):\n",
    "        shutil.move(path + file, path + \"Excel files/\" + file)\n",
    "    elif \".jpg\" in file and not os.path.exists(path + \"Excel files/\" + file):\n",
    "        shutil.move(path + file, path + \"image files/\" + file)\n",
    "    elif \".txt\" in file and not os.path.exists(path + \"Excel files/\" + file):\n",
    "        shutil.move(path + file, path + \"text files/\" + file)"
   ]
  },
  {
   "cell_type": "code",
   "execution_count": null,
   "id": "b80c873d-30bd-4030-b969-9c9c9aa21c0c",
   "metadata": {},
   "outputs": [],
   "source": []
  },
  {
   "cell_type": "code",
   "execution_count": null,
   "id": "222ac610-919e-426e-80ee-18b75e7aede2",
   "metadata": {},
   "outputs": [],
   "source": []
  },
  {
   "cell_type": "code",
   "execution_count": null,
   "id": "c4dfb6c2-f4d6-4794-8b20-bcc808d46616",
   "metadata": {},
   "outputs": [],
   "source": []
  },
  {
   "cell_type": "code",
   "execution_count": null,
   "id": "88d815a0-0956-468f-b407-bdb5c680cb30",
   "metadata": {},
   "outputs": [],
   "source": []
  },
  {
   "cell_type": "code",
   "execution_count": null,
   "id": "eb488a4f-0a32-4ae7-89a8-bb6d2a834a82",
   "metadata": {},
   "outputs": [],
   "source": []
  },
  {
   "cell_type": "code",
   "execution_count": null,
   "id": "1209d0ff-125b-4e23-9e72-3e45697fa282",
   "metadata": {},
   "outputs": [],
   "source": []
  },
  {
   "cell_type": "code",
   "execution_count": null,
   "id": "b32eb135-d9b0-45d5-a16d-d4b9cd6761fc",
   "metadata": {},
   "outputs": [],
   "source": []
  },
  {
   "cell_type": "code",
   "execution_count": null,
   "id": "3b162ec3-4cab-45e6-b9cf-b04aa97429f0",
   "metadata": {},
   "outputs": [],
   "source": []
  },
  {
   "cell_type": "code",
   "execution_count": null,
   "id": "e7357e0b-567d-4214-b4c2-fa13b5c5ba03",
   "metadata": {},
   "outputs": [],
   "source": []
  },
  {
   "cell_type": "code",
   "execution_count": null,
   "id": "6cfe74fc-61ba-429c-975b-ac463b6cbc8a",
   "metadata": {},
   "outputs": [],
   "source": []
  },
  {
   "cell_type": "code",
   "execution_count": null,
   "id": "c8bd0c34-d843-409f-82c2-71cb5512456a",
   "metadata": {},
   "outputs": [],
   "source": []
  },
  {
   "cell_type": "code",
   "execution_count": null,
   "id": "39174d74-2ea3-4549-b836-5bcebb477726",
   "metadata": {},
   "outputs": [],
   "source": []
  },
  {
   "cell_type": "code",
   "execution_count": null,
   "id": "32d7758e-3023-4f91-af37-10496c339b40",
   "metadata": {},
   "outputs": [],
   "source": []
  },
  {
   "cell_type": "code",
   "execution_count": null,
   "id": "a0e164a8-e89a-4a4d-af1d-41fe374f9dd6",
   "metadata": {},
   "outputs": [],
   "source": []
  }
 ],
 "metadata": {
  "kernelspec": {
   "display_name": "Python 3 (ipykernel)",
   "language": "python",
   "name": "python3"
  },
  "language_info": {
   "codemirror_mode": {
    "name": "ipython",
    "version": 3
   },
   "file_extension": ".py",
   "mimetype": "text/x-python",
   "name": "python",
   "nbconvert_exporter": "python",
   "pygments_lexer": "ipython3",
   "version": "3.12.4"
  }
 },
 "nbformat": 4,
 "nbformat_minor": 5
}
