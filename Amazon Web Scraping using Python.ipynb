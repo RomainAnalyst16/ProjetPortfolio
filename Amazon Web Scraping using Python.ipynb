{
 "cells": [
  {
   "cell_type": "code",
   "execution_count": 1,
   "id": "42214256-0292-413b-b12d-6b75ecc75c0b",
   "metadata": {},
   "outputs": [],
   "source": [
    "#import libraries\n",
    "\n",
    "from bs4 import BeautifulSoup\n",
    "import requests\n",
    "import smtplib\n",
    "import time\n",
    "import datetime"
   ]
  },
  {
   "cell_type": "code",
   "execution_count": 27,
   "id": "edc4b623-21d5-4b7d-9727-42afccbe5acc",
   "metadata": {},
   "outputs": [
    {
     "name": "stdout",
     "output_type": "stream",
     "text": [
      "\n",
      "             Thrustmaster HEART CONTROLLER, Manette de jeu Hall Effect équipée de la technologie H.E.A.R.T anti-drift pour Xbox Series X|S et PC\n",
      "            \n",
      "\n",
      "               99,99 €\n",
      "              \n"
     ]
    }
   ],
   "source": [
    "#Connect to website\n",
    "\n",
    "URL = 'https://www.amazon.fr/Thrustmaster-CONTROLLER-Manette-technologie-anti-drift/dp/B0D9BDP51C/ref=sr_1_1?crid=2GI2Y4IVBU9MO&dib=eyJ2IjoiMSJ9.qpmSdpAiLsjTrzA2EnnMKKO6oELhN9mILYxuQKHwst41GwHI6D3Ov2VSrGOjipn71s3YNyricVu6vGMyiiL1U4kSG7SrkOJW4VqDTlf2Pw7PoN4ipXQVV9jIcFOk5iNgBT2z8_Ewp4T7-AynPOi6I-g9VyqksIcKvMPVObIy_035L4-HVj78k4GwRMLR8A9AoP3a5XjoI-ZaF2QEeaG15iNiqF6SFbd-5BpSi64Q6jTSVqbEttJskMT-9oRAq5FYO3gffyk9bdLMc_LRkIwkUCFW9W8-C99Zor5OvjPpitM.E9m2kgW-L__bl6p1ADRADxWWbVsbwioNkfHXlUFeoTE&dib_tag=se&keywords=thrustmaster+heart+controller&qid=1730809638&sprefix=thrustmaster+hea%2Caps%2C81&sr=8-1'\n",
    "\n",
    "headers = {\"User-Agent\": \"Mozilla/5.0 (Windows NT 10.0; Win64; x64) AppleWebKit/537.36 (KHTML, like Gecko) Chrome/130.0.0.0 Safari/537.36\", \"Accept-Encoding\":\"gzip, deflate\", \"Accept\":\"text/html,application/xhtml+xml,application/xml;q=0.9,*/*;q=0.8\", \"DNT\":\"1\",\"Connection\":\"close\", \"Upgrade-Insecure-Requests\":\"1\"}\n",
    "\n",
    "page = requests.get(URL, headers = headers)\n",
    "\n",
    "soup1 = BeautifulSoup(page.content, \"html.parser\")\n",
    "\n",
    "soup2 = BeautifulSoup(soup1.prettify(), 'html.parser')\n",
    "\n",
    "title = soup2.find(id = 'productTitle').get_text()\n",
    "\n",
    "price = soup2.find(class_ = \"aok-offscreen\").get_text()\n",
    "\n",
    "print(title)\n",
    "print(price)"
   ]
  },
  {
   "cell_type": "code",
   "execution_count": 33,
   "id": "a80b0ed8-af58-42f8-8d84-5ec424efcfe2",
   "metadata": {},
   "outputs": [
    {
     "name": "stdout",
     "output_type": "stream",
     "text": [
      "Thrustmaster HEART CONTROLLER, Manette de jeu Hall Effect équipée de la technologie H.E.A.R.T anti-drift pour Xbox Series X|S et PC\n",
      "99,9\n"
     ]
    }
   ],
   "source": [
    "price = price.strip()[:4]\n",
    "title = title.strip()\n",
    "\n",
    "print(title)\n",
    "print(price)"
   ]
  },
  {
   "cell_type": "code",
   "execution_count": 41,
   "id": "7790dee3-7eba-47af-9773-e8640dbb4ee1",
   "metadata": {},
   "outputs": [
    {
     "name": "stdout",
     "output_type": "stream",
     "text": [
      "2024-11-05\n"
     ]
    }
   ],
   "source": [
    "import datetime\n",
    "\n",
    "today = datetime.date.today()\n",
    "\n",
    "print(today)"
   ]
  },
  {
   "cell_type": "code",
   "execution_count": 43,
   "id": "bbd31a7d-d700-4bcf-878d-6870a92d211d",
   "metadata": {},
   "outputs": [],
   "source": [
    "import csv\n",
    "\n",
    "\n",
    "header = ['Title', 'Price', 'Date']\n",
    "data = [title, price, today]\n",
    "\n",
    "with open('AmazonWebScrappingDataset.csv','w', newline='', encoding='UTF8') as f:\n",
    "    writer = csv.writer(f)\n",
    "    writer.writerow(header)\n",
    "    writer.writerow(data)\n"
   ]
  },
  {
   "cell_type": "code",
   "execution_count": 56,
   "id": "ef6c58af-5a1e-40de-842c-fbb0f1d1f0de",
   "metadata": {},
   "outputs": [
    {
     "data": {
      "text/html": [
       "<div>\n",
       "<style scoped>\n",
       "    .dataframe tbody tr th:only-of-type {\n",
       "        vertical-align: middle;\n",
       "    }\n",
       "\n",
       "    .dataframe tbody tr th {\n",
       "        vertical-align: top;\n",
       "    }\n",
       "\n",
       "    .dataframe thead th {\n",
       "        text-align: right;\n",
       "    }\n",
       "</style>\n",
       "<table border=\"1\" class=\"dataframe\">\n",
       "  <thead>\n",
       "    <tr style=\"text-align: right;\">\n",
       "      <th></th>\n",
       "      <th>Title</th>\n",
       "      <th>Price</th>\n",
       "      <th>Date</th>\n",
       "    </tr>\n",
       "  </thead>\n",
       "  <tbody>\n",
       "    <tr>\n",
       "      <th>0</th>\n",
       "      <td>Thrustmaster HEART CONTROLLER, Manette de jeu ...</td>\n",
       "      <td>99,9</td>\n",
       "      <td>2024-11-05</td>\n",
       "    </tr>\n",
       "  </tbody>\n",
       "</table>\n",
       "</div>"
      ],
      "text/plain": [
       "                                               Title Price        Date\n",
       "0  Thrustmaster HEART CONTROLLER, Manette de jeu ...  99,9  2024-11-05"
      ]
     },
     "execution_count": 56,
     "metadata": {},
     "output_type": "execute_result"
    }
   ],
   "source": [
    "import pandas as pd\n",
    "\n",
    "df = pd.read_csv(r\"C:\\Users\\romai\\AmazonWebScrappingDataset.csv\")\n",
    "df"
   ]
  },
  {
   "cell_type": "code",
   "execution_count": 54,
   "id": "537f82ba-c00b-4555-8763-4389a2ac0292",
   "metadata": {},
   "outputs": [
    {
     "ename": "PermissionError",
     "evalue": "[Errno 13] Permission denied: 'AmazonWebScrappingDataset.csv'",
     "output_type": "error",
     "traceback": [
      "\u001b[1;31m---------------------------------------------------------------------------\u001b[0m",
      "\u001b[1;31mPermissionError\u001b[0m                           Traceback (most recent call last)",
      "Cell \u001b[1;32mIn[54], line 5\u001b[0m\n\u001b[0;32m      1\u001b[0m \u001b[38;5;66;03m#Now we are appending data to the csv\u001b[39;00m\n\u001b[1;32m----> 5\u001b[0m \u001b[38;5;28;01mwith\u001b[39;00m \u001b[38;5;28mopen\u001b[39m(\u001b[38;5;124m'\u001b[39m\u001b[38;5;124mAmazonWebScrappingDataset.csv\u001b[39m\u001b[38;5;124m'\u001b[39m,\u001b[38;5;124m'\u001b[39m\u001b[38;5;124ma+\u001b[39m\u001b[38;5;124m'\u001b[39m, newline\u001b[38;5;241m=\u001b[39m\u001b[38;5;124m'\u001b[39m\u001b[38;5;124m'\u001b[39m, encoding\u001b[38;5;241m=\u001b[39m\u001b[38;5;124m'\u001b[39m\u001b[38;5;124mUTF8\u001b[39m\u001b[38;5;124m'\u001b[39m) \u001b[38;5;28;01mas\u001b[39;00m f:\n\u001b[0;32m      6\u001b[0m     writer \u001b[38;5;241m=\u001b[39m csv\u001b[38;5;241m.\u001b[39mwriter(f)\n\u001b[0;32m      7\u001b[0m     writer\u001b[38;5;241m.\u001b[39mwriterow(data)\n",
      "File \u001b[1;32m~\\anaconda3\\Lib\\site-packages\\IPython\\core\\interactiveshell.py:324\u001b[0m, in \u001b[0;36m_modified_open\u001b[1;34m(file, *args, **kwargs)\u001b[0m\n\u001b[0;32m    317\u001b[0m \u001b[38;5;28;01mif\u001b[39;00m file \u001b[38;5;129;01min\u001b[39;00m {\u001b[38;5;241m0\u001b[39m, \u001b[38;5;241m1\u001b[39m, \u001b[38;5;241m2\u001b[39m}:\n\u001b[0;32m    318\u001b[0m     \u001b[38;5;28;01mraise\u001b[39;00m \u001b[38;5;167;01mValueError\u001b[39;00m(\n\u001b[0;32m    319\u001b[0m         \u001b[38;5;124mf\u001b[39m\u001b[38;5;124m\"\u001b[39m\u001b[38;5;124mIPython won\u001b[39m\u001b[38;5;124m'\u001b[39m\u001b[38;5;124mt let you open fd=\u001b[39m\u001b[38;5;132;01m{\u001b[39;00mfile\u001b[38;5;132;01m}\u001b[39;00m\u001b[38;5;124m by default \u001b[39m\u001b[38;5;124m\"\u001b[39m\n\u001b[0;32m    320\u001b[0m         \u001b[38;5;124m\"\u001b[39m\u001b[38;5;124mas it is likely to crash IPython. If you know what you are doing, \u001b[39m\u001b[38;5;124m\"\u001b[39m\n\u001b[0;32m    321\u001b[0m         \u001b[38;5;124m\"\u001b[39m\u001b[38;5;124myou can use builtins\u001b[39m\u001b[38;5;124m'\u001b[39m\u001b[38;5;124m open.\u001b[39m\u001b[38;5;124m\"\u001b[39m\n\u001b[0;32m    322\u001b[0m     )\n\u001b[1;32m--> 324\u001b[0m \u001b[38;5;28;01mreturn\u001b[39;00m io_open(file, \u001b[38;5;241m*\u001b[39margs, \u001b[38;5;241m*\u001b[39m\u001b[38;5;241m*\u001b[39mkwargs)\n",
      "\u001b[1;31mPermissionError\u001b[0m: [Errno 13] Permission denied: 'AmazonWebScrappingDataset.csv'"
     ]
    }
   ],
   "source": [
    "#Now we are appending data to the csv\n",
    "\n",
    "\n",
    "\n",
    "with open('AmazonWebScrappingDataset.csv','a+', newline='', encoding='UTF8') as f:\n",
    "    writer = csv.writer(f)\n",
    "    writer.writerow(data)"
   ]
  },
  {
   "cell_type": "code",
   "execution_count": 58,
   "id": "8435e65a-193d-4ac0-a9bf-917ba87872cb",
   "metadata": {},
   "outputs": [],
   "source": [
    "def check_price():\n",
    "    URL = 'https://www.amazon.fr/Thrustmaster-CONTROLLER-Manette-technologie-anti-drift/dp/B0D9BDP51C/ref=sr_1_1?crid=2GI2Y4IVBU9MO&dib=eyJ2IjoiMSJ9.qpmSdpAiLsjTrzA2EnnMKKO6oELhN9mILYxuQKHwst41GwHI6D3Ov2VSrGOjipn71s3YNyricVu6vGMyiiL1U4kSG7SrkOJW4VqDTlf2Pw7PoN4ipXQVV9jIcFOk5iNgBT2z8_Ewp4T7-AynPOi6I-g9VyqksIcKvMPVObIy_035L4-HVj78k4GwRMLR8A9AoP3a5XjoI-ZaF2QEeaG15iNiqF6SFbd-5BpSi64Q6jTSVqbEttJskMT-9oRAq5FYO3gffyk9bdLMc_LRkIwkUCFW9W8-C99Zor5OvjPpitM.E9m2kgW-L__bl6p1ADRADxWWbVsbwioNkfHXlUFeoTE&dib_tag=se&keywords=thrustmaster+heart+controller&qid=1730809638&sprefix=thrustmaster+hea%2Caps%2C81&sr=8-1'\n",
    "\n",
    "    headers = {\"User-Agent\": \"Mozilla/5.0 (Windows NT 10.0; Win64; x64) AppleWebKit/537.36 (KHTML, like Gecko) Chrome/130.0.0.0 Safari/537.36\", \"Accept-Encoding\":\"gzip, deflate\", \"Accept\":\"text/html,application/xhtml+xml,application/xml;q=0.9,*/*;q=0.8\", \"DNT\":\"1\",\"Connection\":\"close\", \"Upgrade-Insecure-Requests\":\"1\"}\n",
    "\n",
    "    page = requests.get(URL, headers = headers)\n",
    "\n",
    "    soup1 = BeautifulSoup(page.content, \"html.parser\")\n",
    "\n",
    "    soup2 = BeautifulSoup(soup1.prettify(), 'html.parser')\n",
    "\n",
    "    title = soup2.find(id = 'productTitle').get_text()\n",
    "\n",
    "    price = soup2.find(class_ = \"aok-offscreen\").get_text()\n",
    "\n",
    "    price = price.strip()[:4]\n",
    "    \n",
    "    title = title.strip()\n",
    "\n",
    "    import datetime\n",
    "    \n",
    "    today = datetime.date.today()\n",
    "    \n",
    "    print(today)\n",
    "\n",
    "    import csv\n",
    "    \n",
    "    \n",
    "    header = ['Title', 'Price', 'Date']\n",
    "    data = [title, price, today]\n",
    "\n",
    "    with open('AmazonWebScrappingDataset.csv','a+', newline='', encoding='UTF8') as f:\n",
    "        writer = csv.writer(f)\n",
    "        writer.writerow(data)\n",
    "\n",
    "    if(price < 90):\n",
    "        send_mail()"
   ]
  },
  {
   "cell_type": "code",
   "execution_count": null,
   "id": "4eb9e99b-da2d-43ec-ad83-5bce9669b5d9",
   "metadata": {},
   "outputs": [
    {
     "name": "stdout",
     "output_type": "stream",
     "text": [
      "2024-11-05\n"
     ]
    }
   ],
   "source": [
    "while(True):\n",
    "    check_price()\n",
    "    time.sleep(86400)"
   ]
  },
  {
   "cell_type": "code",
   "execution_count": null,
   "id": "4272b8eb-1863-4f7a-823a-db954752b61d",
   "metadata": {},
   "outputs": [],
   "source": [
    "import pandas as pd\n",
    "\n",
    "df = pd.read_csv(r\"C:\\Users\\romai\\AmazonWebScrappingDataset.csv\")\n",
    "df"
   ]
  },
  {
   "cell_type": "code",
   "execution_count": null,
   "id": "863cca38-fb0d-4eb4-8b0b-8241f9a7eb21",
   "metadata": {},
   "outputs": [],
   "source": [
    "def send_mail():\n",
    "    server = smtplib.SMTP_SSL('smtp.gmail.com',465)\n",
    "    server.ehlo()\n",
    "    #server.starttls()\n",
    "    server.ehlo()\n",
    "    server.login('romainjolly16@gmail.com','xxxxxxxxxxxxxx')\n",
    "    \n",
    "    subject = \"La manette que tu veux est en dessous de 90€ fonce!!\"\n",
    "    body = \"Romain, c'est le moment que tu attendais ! La manette de tes r^ves est enfin a un prix raisonnable ! Voici le lien: https://www.amazon.fr/Thrustmaster-CONTROLLER-Manette-technologie-anti-drift/dp/B0D9BDP51C/ref=sr_1_1?crid=2GI2Y4IVBU9MO&dib=eyJ2IjoiMSJ9.qpmSdpAiLsjTrzA2EnnMKKO6oELhN9mILYxuQKHwst41GwHI6D3Ov2VSrGOjipn71s3YNyricVu6vGMyiiL1U4kSG7SrkOJW4VqDTlf2Pw7PoN4ipXQVV9jIcFOk5iNgBT2z8_Ewp4T7-AynPOi6I-g9VyqksIcKvMPVObIy_035L4-HVj78k4GwRMLR8A9AoP3a5XjoI-ZaF2QEeaG15iNiqF6SFbd-5BpSi64Q6jTSVqbEttJskMT-9oRAq5FYO3gffyk9bdLMc_LRkIwkUCFW9W8-C99Zor5OvjPpitM.E9m2kgW-L__bl6p1ADRADxWWbVsbwioNkfHXlUFeoTE&dib_tag=se&keywords=thrustmaster+heart+controller&qid=1730809638&sprefix=thrustmaster+hea%2Caps%2C81&sr=8-1\"\n",
    "   \n",
    "    msg = f\"Subject: {subject}\\n\\n{body}\"\n",
    "    \n",
    "    server.sendmail(\n",
    "        'romainjolly16@gmail.com',\n",
    "        msg\n",
    "     \n",
    "    )"
   ]
  },
  {
   "cell_type": "code",
   "execution_count": null,
   "id": "11179315-8574-4d84-9754-e51a0f3b5df3",
   "metadata": {},
   "outputs": [],
   "source": []
  },
  {
   "cell_type": "code",
   "execution_count": null,
   "id": "94b33659-9b9d-403b-8651-8b2193643160",
   "metadata": {},
   "outputs": [],
   "source": []
  },
  {
   "cell_type": "code",
   "execution_count": null,
   "id": "70766396-c039-4e0a-afc1-f1b3c1c481c2",
   "metadata": {},
   "outputs": [],
   "source": []
  },
  {
   "cell_type": "code",
   "execution_count": null,
   "id": "08660aac-2ee6-499a-b065-0f15c3c81f3f",
   "metadata": {},
   "outputs": [],
   "source": []
  },
  {
   "cell_type": "code",
   "execution_count": null,
   "id": "7d83fe52-50f0-46a0-aeb8-f9b5c2830331",
   "metadata": {},
   "outputs": [],
   "source": []
  },
  {
   "cell_type": "code",
   "execution_count": null,
   "id": "2e0879ee-0b2b-4fb7-9ba8-4510f66766b8",
   "metadata": {},
   "outputs": [],
   "source": []
  },
  {
   "cell_type": "code",
   "execution_count": null,
   "id": "91358e67-d2b8-406b-a56f-3242163fbd84",
   "metadata": {},
   "outputs": [],
   "source": []
  },
  {
   "cell_type": "code",
   "execution_count": null,
   "id": "3b476c81-f538-4ef9-8b13-909a0a8d2979",
   "metadata": {},
   "outputs": [],
   "source": []
  },
  {
   "cell_type": "code",
   "execution_count": null,
   "id": "0441e8d3-da77-4e9f-8a9b-2ec608af1c90",
   "metadata": {},
   "outputs": [],
   "source": []
  },
  {
   "cell_type": "code",
   "execution_count": null,
   "id": "5671c7d4-55d6-4e83-a0b4-646dae7204bb",
   "metadata": {},
   "outputs": [],
   "source": []
  },
  {
   "cell_type": "code",
   "execution_count": null,
   "id": "05178c1b-7f70-4d7e-a0b6-62848f8b73eb",
   "metadata": {},
   "outputs": [],
   "source": []
  },
  {
   "cell_type": "code",
   "execution_count": null,
   "id": "03cf45a7-d62e-43d3-bbf3-81e618d91ea2",
   "metadata": {},
   "outputs": [],
   "source": []
  },
  {
   "cell_type": "code",
   "execution_count": null,
   "id": "7a533ff1-4091-4573-9d0c-8bd34caca617",
   "metadata": {},
   "outputs": [],
   "source": []
  }
 ],
 "metadata": {
  "kernelspec": {
   "display_name": "Python 3 (ipykernel)",
   "language": "python",
   "name": "python3"
  },
  "language_info": {
   "codemirror_mode": {
    "name": "ipython",
    "version": 3
   },
   "file_extension": ".py",
   "mimetype": "text/x-python",
   "name": "python",
   "nbconvert_exporter": "python",
   "pygments_lexer": "ipython3",
   "version": "3.12.4"
  }
 },
 "nbformat": 4,
 "nbformat_minor": 5
}
